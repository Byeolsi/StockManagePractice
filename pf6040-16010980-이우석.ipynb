{
 "cells": [
  {
   "cell_type": "code",
   "execution_count": 1,
   "id": "cef499d7",
   "metadata": {},
   "outputs": [],
   "source": [
    "from datetime import datetime, timedelta\n",
    "from dateutil.relativedelta import relativedelta\n",
    "\n",
    "import FinanceDataReader as fdr\n",
    "import matplotlib.pyplot as plt\n",
    "import pandas as pd\n",
    "import numpy as np"
   ]
  },
  {
   "cell_type": "code",
   "execution_count": 2,
   "id": "f9c0a885",
   "metadata": {},
   "outputs": [],
   "source": [
    "def load_data(code, start_date, end_date):\n",
    "    if end_date == datetime.today().strftime('%Y-%m-%d'):\n",
    "        data = fdr.DataReader(code, start_date)\n",
    "    else:\n",
    "        data = fdr.DataReader(code, start_date, end_date)\n",
    "    return data['Close'] # 종가만 남김."
   ]
  },
  {
   "cell_type": "code",
   "execution_count": 3,
   "id": "807bbc73",
   "metadata": {},
   "outputs": [],
   "source": [
    "def buy_etf(money, etf_price, last_etf_num, fee_rate, etf_rate):\n",
    "    etf_num = money * etf_rate // etf_price\n",
    "    etf_money = etf_num * etf_price\n",
    "    etf_fee = (last_etf_num - etf_num) * etf_price * fee_rate if last_etf_num > etf_num else 0\n",
    "    \n",
    "    while etf_num > 0 and money < (etf_money + etf_fee):\n",
    "        etf_num -= 1\n",
    "        etf_money = etf_num * etf_price\n",
    "        etf_fee = (last_etf_num - etf_num) * etf_price * fee_rate if last_etf_num > etf_num else 0\n",
    "    purchase_money = etf_money + etf_fee\n",
    "    \n",
    "    \n",
    "    # return money, etf_num, etf_money\n",
    "    return purchase_money, etf_num, etf_money"
   ]
  },
  {
   "cell_type": "code",
   "execution_count": 4,
   "id": "8dea0e9a",
   "metadata": {},
   "outputs": [],
   "source": [
    "def back_test(money: int, fee_rate: float, interval: int, codes: list, etf_rates: list, start_date: str, end_date: str = datetime.today().strftime('%Y-%m-%d')):\n",
    "    \n",
    "    start_date = datetime.strptime(start_date, '%Y-%m-%d') # 조회시작일\n",
    "    \n",
    "    etfs = []\n",
    "    for code in codes:\n",
    "        etfs.append(load_data(code, start_date, end_date))\n",
    "    \n",
    "    df = pd.concat(etfs, axis=1, keys=[code for code in codes])\n",
    "    df = df.fillna(method='ffill')\n",
    "    \n",
    "    # print(df.isnull().sum())\n",
    "    \n",
    "    # 리밸런싱 날짜의 데이터만 new_df에 남깁니다.\n",
    "    new_df = pd.DataFrame()\n",
    "    while start_date <= df.index[-1]:\n",
    "        temp_date = start_date\n",
    "        while temp_date not in df.index and temp_date < df.index[-1]:\n",
    "            temp_date += timedelta(days=1) # 영업일이 아닐 경우 1일씩 증가.\n",
    "        new_df = new_df.append(df.loc[temp_date])\n",
    "        start_date += relativedelta(months=interval) # interval 개월씩 증가.\n",
    "        \n",
    "    etf_nums = [0 for i in range(len(etfs))]\n",
    "    etf_prices = [new_df[code][0] for code in codes]\n",
    "    etf_moneys = [0 for i in range(len(etfs))]\n",
    "    \n",
    "    \n",
    "    backtest_df = pd.DataFrame() # 백테스트를 위한 데이터프레임\n",
    "\n",
    "    for each in new_df.index:\n",
    "        for i in range(len(etfs)):\n",
    "            etf_prices[i] = new_df[codes[i]][each]\n",
    "        \n",
    "        # 보유 etf 매도\n",
    "        for i in range(len(etfs)):\n",
    "            money += etf_nums[i] * etf_prices[i]\n",
    "        \n",
    "        # etf 매입\n",
    "        init_money = money\n",
    "        for i in range(len(etfs)):\n",
    "            buy_money, etf_nums[i], etf_moneys[i] = buy_etf(init_money, etf_prices[i], etf_nums[i], fee_rate, etf_rates[i])\n",
    "            money -= buy_money\n",
    "        \n",
    "        total = money\n",
    "        for i in range(len(etfs)):\n",
    "            total += etf_moneys[i]\n",
    "            \n",
    "        # backtest_df[each] = []\n",
    "        backtest_df[each] = [int(total)]\n",
    "        # backtest_df[each] = [float(total)]\n",
    "        \n",
    "    # 행열을 바꿈\n",
    "    backtest_df = backtest_df.transpose()\n",
    "    backtest_df.columns = ['backtest', ]\n",
    "    \n",
    "    # 백테스트 결과 출력\n",
    "    # print(backtest_df)\n",
    "    \n",
    "    # 최종 데이터 프레임, 3개의 지표와 백테스트 결과\n",
    "    final_df = pd.concat([new_df, backtest_df], axis=1)\n",
    "    print(final_df)\n",
    "    \n",
    "    profit_df = final_df.pct_change()\n",
    "    \n",
    "    profit_acc_df = (1 + profit_df).cumprod() - 1\n",
    "    \n",
    "    profit_log_df = np.log(profit_df + 1)\n",
    "    \n",
    "    profit_acc_log_df = profit_log_df.cumsum()\n",
    "    \n",
    "    final_acc_log_df = profit_acc_log_df * 100\n",
    "    \n",
    "    # 그래프 출력\n",
    "    for i in range(len(etfs)):\n",
    "        plt.plot(final_acc_log_df[codes[i]].index, final_acc_log_df[codes[i]], label='{}'.format(codes[i]))\n",
    "    plt.plot(final_acc_log_df['backtest'].index, final_acc_log_df['backtest'], label='Backtest')\n",
    "    \n",
    "    plt.legend(loc='upper left')\n",
    "    plt.show()\n",
    "    \n",
    "    # CAGR 계산\n",
    "    CAGRs = []\n",
    "    for i in range(len(etfs)):\n",
    "        delta = final_df.index[-1] - final_df.index[0]\n",
    "        years = delta.days / 365\n",
    "        CAGR = (final_df[codes[i]][-1] / final_df[codes[i]][0]) ** (1 / years) - 1\n",
    "        CAGRs.append(CAGR)\n",
    "    delta = final_df.index[-1] - final_df.index[0]\n",
    "    years = delta.days / 365\n",
    "    CAGR = (final_df['backtest'][-1] / final_df['backtest'][0]) ** (1 / years) - 1\n",
    "    CAGRs.append(CAGR)\n",
    "    \n",
    "    # CAGR 출력\n",
    "    for i in range(len(etfs)):\n",
    "        print(\"{} CAGR: {}\".format(codes[i], CAGRs[i] * 100))\n",
    "    print(\"Total CAGR: {}\".format(CAGRs[-1] * 100))"
   ]
  },
  {
   "cell_type": "code",
   "execution_count": 5,
   "id": "d0d9132b",
   "metadata": {
    "scrolled": false
   },
   "outputs": [
    {
     "name": "stdout",
     "output_type": "stream",
     "text": [
      "               KS11    148070  backtest\n",
      "2015-01-02  1926.44  101790.0  10000000\n",
      "2016-01-04  1918.76  109207.0  10264910\n",
      "2017-01-02  2026.16  110533.0  10658404\n",
      "2018-01-02  2479.65  108984.0  12029541\n",
      "2019-01-02  2010.00  116388.0  10986537\n",
      "2020-01-02  2175.17  121020.0  11699448\n",
      "2021-01-04  2944.45  122580.0  14239275\n",
      "2022-01-03  2988.77  118885.0  14197572\n"
     ]
    },
    {
     "data": {
      "image/png": "[encoded data removed]",
      "text/plain": [
       "<Figure size 432x288 with 1 Axes>"
      ]
     },
     "metadata": {
      "needs_background": "light"
     },
     "output_type": "display_data"
    },
    {
     "name": "stdout",
     "output_type": "stream",
     "text": [
      "KS11 CAGR: 6.467287027752655\n",
      "148070 CAGR: 2.2398987772391354\n",
      "Total CAGR: 5.128233367069113\n"
     ]
    }
   ],
   "source": [
    "back_test(10_000_000, 0.002, 12, ['KS11', '148070'], [0.6, 0.4], '2015-01-01')"
   ]
  },
  {
   "cell_type": "code",
   "execution_count": null,
   "id": "f2321003",
   "metadata": {},
   "outputs": [],
   "source": []
  }
 ],
 "metadata": {
  "kernelspec": {
   "display_name": "Python 3 (ipykernel)",
   "language": "python",
   "name": "python3"
  },
  "language_info": {
   "codemirror_mode": {
    "name": "ipython",
    "version": 3
   },
   "file_extension": ".py",
   "mimetype": "text/x-python",
   "name": "python",
   "nbconvert_exporter": "python",
   "pygments_lexer": "ipython3",
   "version": "3.9.7"
  }
 },
 "nbformat": 4,
 "nbformat_minor": 5
}

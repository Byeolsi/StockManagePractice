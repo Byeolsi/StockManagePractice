{
 "cells": [
  {
   "cell_type": "code",
   "execution_count": 1,
   "id": "5dda7821",
   "metadata": {},
   "outputs": [],
   "source": [
    "import pandas as pd\n",
    "import numpy as np\n",
    "from bs4 import BeautifulSoup\n",
    "from urllib.request import urlopen, Request"
   ]
  },
  {
   "cell_type": "code",
   "execution_count": 2,
   "id": "1397ce97",
   "metadata": {},
   "outputs": [],
   "source": [
    "def read_krx_code():\n",
    "    \"\"\"KRX로부터 상장기업 목록 파일을 읽어와서 데이터프레임으로 반환\"\"\"\n",
    "    url = 'http://kind.krx.co.kr/corpgeneral/corpList.do?method='\\\n",
    "        'download&searchType=13'\n",
    "    krx = pd.read_html(url, header=0)[0]\n",
    "    krx = krx[['종목코드', '회사명']]\n",
    "    krx = krx.rename(columns={'종목코드' : 'code', '회사명' : 'company'})\n",
    "    krx.code = krx.code.map('{:06d}'.format)\n",
    "    \n",
    "    return krx"
   ]
  },
  {
   "cell_type": "code",
   "execution_count": 3,
   "id": "7744931d",
   "metadata": {},
   "outputs": [],
   "source": [
    "def getIS(stock_code, rpt_type, freq):\n",
    "    \"\"\"[FnGuide] 공시기업의 최근 3개 연간 및 4개 분기 손익계산서를 수집하는 함수\n",
    "    \n",
    "    Parameters\n",
    "    ==========\n",
    "    stock_code : str, 종목코드\n",
    "    rpt_type   : str, 재무제표 종류\n",
    "        'Consolidated'(연결), 'Unconsolidated'(별도)\n",
    "    freq       : str, 연간 및 분기보고서\n",
    "        'A'(연간), 'Q'(분기)\n",
    "    \"\"\"\n",
    "    items_en = ['rev', 'cgs', 'gross', 'sga', 'sga1', 'sga2', 'sga3', 'sga4', 'sga5', 'sga6', 'sga7', 'sga8', 'opr', 'opr_', # 14\n",
    "                'fininc', 'fininc1', 'fininc2', 'fininc3', 'fininc4', 'fininc5', # 6\n",
    "                'fininc6', 'fininc7', 'fininc8', 'fininc9', 'fininc10', 'fininc11', # 6\n",
    "                'fincost', 'fincost1', 'fincost2', 'fincost3', 'fincost4', 'fincost5', # 6\n",
    "                'fincost6', 'fincost7', 'fincost8', 'fincost9', 'fincost10', # 5\n",
    "                'otherrev', 'otherrev1', 'otherrev2', 'otherrev3', 'otherrev4', 'otherrev5', 'otherrev6', 'otherrev7', 'otherrev8', # 9\n",
    "                'otherrev9', 'otherrev10', 'otherrev11', 'otherrev12', 'otherrev13', 'otherrev14', 'otherrev15', 'otherrev16', # 8\n",
    "                'othercost', 'othercost1', 'othercost2', 'othercost3', 'othercost4', 'othercost5', # 6\n",
    "                'othercost6', 'othercost7', 'othercost8', 'othercost9', 'othercost10', 'othercost11', 'othercost12', # 7\n",
    "                'otherpl', 'otherpl1', 'otherpl2', 'otherpl3', 'otherpl4', 'ebit', 'tax', 'contop', 'discontop', 'netinc'] # 12\n",
    "    \n",
    "    if rpt_type.upper() == 'CONSOLIDATED':\n",
    "        # 연결 연간 손익계싼서(ReportGB=D)\n",
    "        url = \"https://comp.fnguide.com/SVO2/ASP/SVD_Finance.asp?\" + \"pGB=1&gicode=A{}&cID=&MenuYn=Y&ReportGB=D&NewMenuID=103&stkGb=701\".format(stock_code)\n",
    "        items_en = items_en + ['netinc1', 'netinc2']\n",
    "        \n",
    "    else:\n",
    "        # 별도 연간 손익계산서(ReportGB=B)\n",
    "        url = \"https://comp.fnguide.com/SV02/asp/SVD_Finance.asp?\" + \"pGB=1&gicode=A{}&cID=&MenuYn=Y&ReportGB=B&NewMenuID=103&stkGb=701\".format(stock_code)\n",
    "        \n",
    "    # Header 설정\n",
    "    headers = {\n",
    "        \"User-Agent\" : \"Mozilla/5.0 (Windows NT 10.0; Win64; x64) AppleWebKit/537.36 (KHTML, like Gecko) Chrome/101.0.4951.54 Safari/537.36\"\n",
    "    }\n",
    "    req = Request(url=url, headers=headers)\n",
    "    html = urlopen(req).read()\n",
    "    soup = BeautifulSoup(html, 'html.parser')\n",
    "    \n",
    "    if freq.upper() == 'A': # 연간 손익계산서 영역 추출\n",
    "        is_a = soup.find(id = 'divSonikY')\n",
    "        num_col = 4 # 최근 4개 연간 데이터\n",
    "    else: # 분기 손익계산서 영역 추출 freq.upper() == 'Q'\n",
    "        is_a = soup.find(id = 'divSonikQ')\n",
    "        num_col = 4 # 최근 4개 분기 데이터\n",
    "        \n",
    "    # 존재하지 않는 데이터(None) 처리\n",
    "    if is_a is None:\n",
    "        return\n",
    "    else:\n",
    "        is_a = is_a.find_all(['tr'])\n",
    "    \n",
    "    # 연간 손익계산서 항목 펼친 뒤 하위 항목 추출\n",
    "    items_kr = [is_a[m].find(['th']).get_text().replace('\\n', '').replace('\\xa0', '').replace('계산에 참여한 계정 펼치기', '')\n",
    "                for m in range(1, len(is_a))]\n",
    "    \n",
    "    # 최근 3개 연간 손익계산서 자료 수집\n",
    "    period = [is_a[0].find_all('th')[n].get_text() for n in range(1, num_col+1)]\n",
    "    \n",
    "    # 항목별 최근 3개 연간데이터 불러오기\n",
    "    for item, i in zip(items_en, range(1, len(is_a))):\n",
    "        temps = []\n",
    "        for j in range(0, num_col):\n",
    "            temp = [float(is_a[i].find_all('td')[j]['title'].replace(',', '').replace('\\xa0', '')) \\\n",
    "                    if is_a[i].find_all('td')[j]['title'].replace(',', '').replace('\\xa0', '') != '' \\\n",
    "                    else (0 if is_a[i].find_all('td')[j]['title'].replace(',', '').replace('\\xa0', '') == '-0' \\\n",
    "                         else 0)]\n",
    "            temps.append(temp[0])\n",
    "            \n",
    "        # item_en 내 각 항목을 global 변수로 지정하고 값 저장\n",
    "        globals()[item] = temps\n",
    "        \n",
    "    # 지배/비지배 항목 청리\n",
    "    if rpt_type.upper() == 'CONSOLIDATED': # 연결 연간 손익계산서는 아무 것도 하지 않음\n",
    "        pass\n",
    "    \n",
    "    else: # 별도 연간 손익계산서 해당 항목을 Null값으로 채움\n",
    "        globals()['netinc1'], globals()['netinc2'] = [np.NaN] * num_col, [np.NaN] * num_col\n",
    "        \n",
    "    # 손익계산서 각 컬럼에 위에서 저장한 global 변수값을 지정하여 dataframe으로 변환\n",
    "    is_domestic = pd.DataFrame({'종목' : stock_code, '기간' : period,\n",
    "                                '매출액' : rev, '매출원가' : cgs, '매출총이익' : gross,\n",
    "                                '판매비와관리비' : sga, '영업이익(발표기준)' : opr_,\n",
    "                                '금융수익' : fininc, '금융원가' : fincost,\n",
    "                                '기타수익' : otherrev, '기타비용' : othercost,\n",
    "                                '관계기업관련손익' : otherpl, 'EBIT' : ebit,\n",
    "                                '법인세비용' : tax, '계속영업이익': contop,\n",
    "                                '중단영업이익' : discontop, '당기순이익' : netinc,\n",
    "                                '지배주주순이익' : globals()['netinc1'],\n",
    "                                '비지배주주순이익' : globals()['netinc2']})\n",
    "    \n",
    "    is_domestic['재무제표종류'] = rpt_type + '_' + freq.upper()\n",
    "    \n",
    "    return is_domestic"
   ]
  },
  {
   "cell_type": "code",
   "execution_count": 4,
   "id": "4dc72e04",
   "metadata": {},
   "outputs": [],
   "source": [
    "import pymysql # python에서 mysql을 사용하는 패키지\n",
    "\n",
    "import sqlalchemy # sql 접근 및 관리를 도와주는 패키지\n",
    "from sqlalchemy import create_engine"
   ]
  },
  {
   "cell_type": "code",
   "execution_count": 5,
   "id": "da1b8998",
   "metadata": {},
   "outputs": [],
   "source": [
    "def connectMySQL():\n",
    "    server = '127.0.0.1' # local server\n",
    "    user = 'root' # user name\n",
    "    password = 'js0815' # 개인 password\n",
    "    db = '16010980_my1st_db' # DB 이름\n",
    "    \n",
    "    # sqlalchemy의 create_engine을 이용해 DB 연결\n",
    "    engine = create_engine('mysql+pymysql://{}:{}@{}/{}?charset=utf8'.format(user, password, server, db))\n",
    "    \n",
    "    return engine"
   ]
  },
  {
   "cell_type": "code",
   "execution_count": 6,
   "id": "d29e584b",
   "metadata": {},
   "outputs": [],
   "source": [
    "def setIS_toDB(df, name):\n",
    "    engine = connectMySQL()\n",
    "    \n",
    "    df.to_sql(name=name, con=engine, if_exists='append', index=False,\n",
    "        dtype={\n",
    "            '종목' : sqlalchemy.types.VARCHAR(10),\n",
    "            '기간' : sqlalchemy.types.VARCHAR(10),\n",
    "            '매출액' : sqlalchemy.types.Float(),\n",
    "            '매출원가' : sqlalchemy.types.Float(),\n",
    "            '매출총이익' : sqlalchemy.types.Float(),\n",
    "            '판매비와관리비' : sqlalchemy.types.Float(),\n",
    "            '영업이익(발표기준)' : sqlalchemy.types.Float(),\n",
    "            '금융수익' : sqlalchemy.types.Float(),\n",
    "            '금융원가' : sqlalchemy.types.Float(),\n",
    "            '기타수익' : sqlalchemy.types.Float(),\n",
    "            '기타비용' : sqlalchemy.types.Float(),\n",
    "            '관계기업관련손익' : sqlalchemy.types.Float(),\n",
    "            'EBIT' : sqlalchemy.types.Float(),\n",
    "            '법인세비용' : sqlalchemy.types.Float(),\n",
    "            '계속영업이익' : sqlalchemy.types.Float(),\n",
    "            '중단영업이익' : sqlalchemy.types.Float(),\n",
    "            '당기순이익' : sqlalchemy.types.Float(),\n",
    "            '지배주주순이익' : sqlalchemy.types.Float(),\n",
    "            '비지배주주순이익' : sqlalchemy.types.Float()\n",
    "        }\n",
    "    )\n",
    "    \n",
    "    # DB 접속 해제\n",
    "    engine.dispose()\n",
    "    # cur.close()\n",
    "    # conn.close()"
   ]
  },
  {
   "cell_type": "code",
   "execution_count": 8,
   "id": "9bd833e9",
   "metadata": {},
   "outputs": [
    {
     "name": "stderr",
     "output_type": "stream",
     "text": [
      "C:\\Users\\User\\AppData\\Local\\Temp\\ipykernel_37252\\3545073925.py:8: TqdmDeprecationWarning: This function will be removed in tqdm==5.0.0\n",
      "Please use `tqdm.notebook.tqdm` instead of `tqdm.tqdm_notebook`\n",
      "  for code in tqdm_notebook(code_list):\n"
     ]
    },
    {
     "data": {
      "application/vnd.jupyter.widget-view+json": {
       "model_id": "1356fd44baa2457db2a44a20510b5e58",
       "version_major": 2,
       "version_minor": 0
      },
      "text/plain": [
       "  0%|          | 0/2500 [00:00<?, ?it/s]"
      ]
     },
     "metadata": {},
     "output_type": "display_data"
    },
    {
     "name": "stdout",
     "output_type": "stream",
     "text": [
      "데이터베이스에 연간 손익계산서 저장 시작!\n",
      "데이터베이스에 연간 손익계산서 저장 완료!\n"
     ]
    },
    {
     "name": "stderr",
     "output_type": "stream",
     "text": [
      "D:\\anaconda3\\lib\\site-packages\\pandas\\io\\sql.py:1685: UserWarning: The provided table name 'Income Statement' is not found exactly as such in the database after writing the table, possibly due to case sensitivity issues. Consider using lower case table names.\n",
      "  warnings.warn(msg, UserWarning)\n",
      "C:\\Users\\User\\AppData\\Local\\Temp\\ipykernel_37252\\3545073925.py:16: TqdmDeprecationWarning: This function will be removed in tqdm==5.0.0\n",
      "Please use `tqdm.notebook.tqdm` instead of `tqdm.tqdm_notebook`\n",
      "  for code in tqdm_notebook(code_list):\n"
     ]
    },
    {
     "data": {
      "application/vnd.jupyter.widget-view+json": {
       "model_id": "4856503e28bb4d33a12bba8af888ab10",
       "version_major": 2,
       "version_minor": 0
      },
      "text/plain": [
       "  0%|          | 0/2500 [00:00<?, ?it/s]"
      ]
     },
     "metadata": {},
     "output_type": "display_data"
    },
    {
     "name": "stdout",
     "output_type": "stream",
     "text": [
      "데이터베이스에 분기 손익계산서 저장 시작!\n",
      "데이터베이스에 분기 손익계산서 저장 완료!\n"
     ]
    }
   ],
   "source": [
    "from tqdm import tqdm_notebook\n",
    "\n",
    "krx_df = read_krx_code()\n",
    "\n",
    "code_list = krx_df['code'].values.tolist()\n",
    "\n",
    "df = pd.DataFrame()\n",
    "for code in tqdm_notebook(code_list):\n",
    "    df = df.append(getIS(code, 'Consolidated', 'A'))\n",
    "    \n",
    "print(\"데이터베이스에 연간 손익계산서 저장 시작!\")\n",
    "setIS_toDB(df, 'Income Statement')\n",
    "print(\"데이터베이스에 연간 손익계산서 저장 완료!\")\n",
    "\n",
    "df = pd.DataFrame()\n",
    "for code in tqdm_notebook(code_list):\n",
    "    df = df.append(getIS(code, 'Consolidated', 'Q'))\n",
    "    \n",
    "print(\"데이터베이스에 분기 손익계산서 저장 시작!\")\n",
    "setIS_toDB(df, 'Income Statement')\n",
    "print(\"데이터베이스에 분기 손익계산서 저장 완료!\")"
   ]
  },
  {
   "cell_type": "code",
   "execution_count": null,
   "id": "ae2b8136",
   "metadata": {},
   "outputs": [],
   "source": []
  }
 ],
 "metadata": {
  "kernelspec": {
   "display_name": "Python 3 (ipykernel)",
   "language": "python",
   "name": "python3"
  },
  "language_info": {
   "codemirror_mode": {
    "name": "ipython",
    "version": 3
   },
   "file_extension": ".py",
   "mimetype": "text/x-python",
   "name": "python",
   "nbconvert_exporter": "python",
   "pygments_lexer": "ipython3",
   "version": "3.9.7"
  }
 },
 "nbformat": 4,
 "nbformat_minor": 5
}
